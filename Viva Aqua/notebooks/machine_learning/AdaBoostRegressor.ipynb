{
 "cells": [
  {
   "cell_type": "code",
   "execution_count": 1,
   "metadata": {},
   "outputs": [],
   "source": [
    "!pip3 install -q --upgrade pip\n",
    "!pip3 install -q pandas numpy matplotlib seaborn openpyxl climateserv requests netCDF4 xarray pyproj statsmodels"
   ]
  },
  {
   "cell_type": "code",
   "execution_count": 2,
   "metadata": {},
   "outputs": [],
   "source": [
    "import sys\n",
    "from pathlib import Path\n",
    "\n",
    "# Calculate the path to the scripts folder relative to the current notebook.\n",
    "scripts_dir = Path(\"../../\").resolve()\n",
    "\n",
    "# Add the scripts directory to the sys.path if it's not already there.\n",
    "if str(scripts_dir) not in sys.path:\n",
    "    sys.path.append(str(scripts_dir))\n",
    "\n",
    "import warnings\n",
    "import numpy as np\n",
    "import pandas as pd\n",
    "import matplotlib.pyplot as plt\n",
    "from sklearn.pipeline import Pipeline\n",
    "from sklearn.pipeline import make_pipeline\n",
    "from sklearn.ensemble import AdaBoostRegressor\n",
    "from sklearn.tree import DecisionTreeRegressor\n",
    "from sklearn.preprocessing import StandardScaler\n",
    "from sklearn.kernel_approximation import Nystroem\n",
    "from sklearn.metrics import mean_squared_error, mean_absolute_error, r2_score, make_scorer\n",
    "from sklearn.model_selection import train_test_split, GroupKFold, GridSearchCV, cross_val_score"
   ]
  },
  {
   "cell_type": "markdown",
   "metadata": {},
   "source": []
  },
  {
   "cell_type": "code",
   "execution_count": 22,
   "metadata": {},
   "outputs": [
    {
     "name": "stdout",
     "output_type": "stream",
     "text": [
      "Total rows in dataset: 6636\n",
      "\n",
      "Unique IDs in the dataset: 36\n",
      "Unique IDs in training set: 28\n",
      "Unique IDs in testing set: 8\n",
      "\n",
      "Rows in training set: 5574\n",
      "Rows in testing set: 1062\n",
      "\n",
      "Shape of X_train: (5574, 19)\n",
      "Shape of y_train: (5574,)\n",
      "\n",
      "Shape of X_test: (1062, 19)\n",
      "Shape of y_test: (1062,)\n"
     ]
    }
   ],
   "source": [
    "# Carga de datos y preparación inicial\n",
    "df = pd.read_csv(\"../../data/processed_data/wells_data_gambia_for_machine_learning.csv\")\n",
    "unique_values = df['DepthToGroundwater'].unique()\n",
    "value_to_int = {value: idx for idx, value in enumerate(unique_values)}\n",
    "df['DepthToGroundwater'] = df['DepthToGroundwater'].map(value_to_int)\n",
    "\n",
    "# Print basic dataset info\n",
    "print(\"Total rows in dataset:\", len(df))\n",
    "print('')\n",
    "\n",
    "# Preparación de los conjuntos de datos\n",
    "unique_ids = df['ID'].unique()\n",
    "train_ids, test_ids = train_test_split(unique_ids, test_size=0.2, random_state=2)\n",
    "train_df = df[df['ID'].isin(train_ids)]\n",
    "test_df = df[df['ID'].isin(test_ids)]\n",
    "\n",
    "# Print train-test split details\n",
    "print(\"Unique IDs in the dataset:\", len(unique_ids))\n",
    "print(\"Unique IDs in training set:\", len(train_ids))\n",
    "print(\"Unique IDs in testing set:\", len(test_ids))\n",
    "print('')\n",
    "print(\"Rows in training set:\", len(train_df))\n",
    "print(\"Rows in testing set:\", len(test_df))\n",
    "\n",
    "X_train = train_df.drop(columns=['GROUNDWATER_LEVEL', 'ID', 'Date'])\n",
    "y_train = train_df['GROUNDWATER_LEVEL']\n",
    "X_test = test_df.drop(columns=['GROUNDWATER_LEVEL', 'ID', 'Date'])\n",
    "y_test = test_df['GROUNDWATER_LEVEL']\n",
    "\n",
    "# Print shape of train and test sets\n",
    "print('')\n",
    "print(\"Shape of X_train:\", X_train.shape)\n",
    "print(\"Shape of y_train:\", y_train.shape)\n",
    "print('')\n",
    "print(\"Shape of X_test:\", X_test.shape)\n",
    "print(\"Shape of y_test:\", y_test.shape)\n",
    "\n",
    "# Prepara los grupos para GroupKFold\n",
    "groups = train_df['ID']\n"
   ]
  },
  {
   "cell_type": "markdown",
   "metadata": {},
   "source": []
  },
  {
   "cell_type": "code",
   "execution_count": 23,
   "metadata": {},
   "outputs": [
    {
     "name": "stdout",
     "output_type": "stream",
     "text": [
      "Fitting 5 folds for each of 243 candidates, totalling 1215 fits\n"
     ]
    },
    {
     "name": "stdout",
     "output_type": "stream",
     "text": [
      "Best parameters: {'adaboost__learning_rate': 1, 'adaboost__n_estimators': 30, 'nystroem__gamma': 0.1, 'nystroem__kernel': 'sigmoid', 'nystroem__n_components': 300}\n"
     ]
    }
   ],
   "source": [
    "# Define GroupKFold\n",
    "gkf = GroupKFold(n_splits=5)\n",
    "\n",
    "# Initialize AdaBoostRegressor with a DecisionTreeRegressor as base estimator\n",
    "ada_regressor = AdaBoostRegressor(\n",
    "    estimator=DecisionTreeRegressor(max_depth=3),\n",
    "    n_estimators=50, \n",
    "    learning_rate=1.0, \n",
    "    loss='linear', \n",
    "    random_state=42\n",
    ")\n",
    "\n",
    "# Update the pipeline with AdaBoostRegressor\n",
    "pipeline = Pipeline([\n",
    "    ('nystroem', Nystroem(random_state=1)),\n",
    "    ('adaboost', ada_regressor)\n",
    "])\n",
    "\n",
    "# Define the parameter grid for AdaBoost\n",
    "param_grid = {\n",
    "    'nystroem__kernel': ['rbf', 'poly', 'sigmoid'],\n",
    "    'nystroem__gamma': [0.1, 0.5, 1],\n",
    "    'nystroem__n_components': [100, 200, 300],\n",
    "    'adaboost__n_estimators': [30, 50, 70],\n",
    "    'adaboost__learning_rate': [0.01, 0.1, 1]\n",
    "}\n",
    "\n",
    "# Grid search with GroupKFold\n",
    "grid_search = GridSearchCV(\n",
    "    estimator=pipeline,\n",
    "    param_grid=param_grid,\n",
    "    scoring='neg_mean_squared_error',\n",
    "    cv=gkf,\n",
    "    n_jobs=-1,\n",
    "    verbose=1\n",
    ")\n",
    "\n",
    "# Fit the model with groups for the initial grid search\n",
    "grid_search.fit(X=X_train, y=y_train, groups=groups)\n",
    "\n",
    "# Best model and parameters\n",
    "best_model = grid_search.best_estimator_\n",
    "best_params = grid_search.best_params_\n",
    "print(\"Best parameters:\", best_params)"
   ]
  },
  {
   "cell_type": "markdown",
   "metadata": {},
   "source": []
  },
  {
   "cell_type": "code",
   "execution_count": 24,
   "metadata": {},
   "outputs": [
    {
     "name": "stdout",
     "output_type": "stream",
     "text": [
      "Fitting 5 folds for each of 27 candidates, totalling 135 fits\n",
      "New best parameters: {'adaboost__learning_rate': 1, 'adaboost__n_estimators': 36, 'nystroem__gamma': 0.12}\n"
     ]
    }
   ],
   "source": [
    "# Extract and adjust parameter names from the initial grid search\n",
    "best_nystroem_params = {\n",
    "    'kernel': best_params['nystroem__kernel'],\n",
    "    'gamma': best_params['nystroem__gamma'],\n",
    "    'n_components': best_params['nystroem__n_components']\n",
    "}\n",
    "\n",
    "best_adaboost_params = {\n",
    "    'n_estimators': best_params['adaboost__n_estimators'],\n",
    "    'learning_rate': best_params['adaboost__learning_rate']\n",
    "}\n",
    "\n",
    "# Define new, more focused parameter grid for fine-tuning\n",
    "param_grid_fine = {\n",
    "    'nystroem__gamma': [best_nystroem_params['gamma'] * factor for factor in [0.8, 1, 1.2]],  # Adjusted here\n",
    "    'adaboost__n_estimators': [int(best_adaboost_params['n_estimators'] * factor) for factor in [0.8, 1, 1.2]],\n",
    "    'adaboost__learning_rate': [best_adaboost_params['learning_rate'] * factor for factor in [0.8, 1, 1.2]]\n",
    "}\n",
    "\n",
    "# Initialize AdaBoostRegressor with fine-tuned parameters\n",
    "ada_regressor_fine = AdaBoostRegressor(\n",
    "    estimator=DecisionTreeRegressor(max_depth=3, random_state=42),\n",
    "    n_estimators=best_adaboost_params['n_estimators'], \n",
    "    learning_rate=best_adaboost_params['learning_rate'], \n",
    "    loss='linear', \n",
    "    random_state=42\n",
    ")\n",
    "\n",
    "# Update the pipeline with fine-tuned AdaBoostRegressor\n",
    "pipeline_fine = Pipeline([\n",
    "    ('scaler', StandardScaler()),\n",
    "    ('nystroem', Nystroem(**best_nystroem_params, random_state=1)),\n",
    "    ('adaboost', ada_regressor_fine)\n",
    "])\n",
    "\n",
    "# New Grid search for fine-tuning\n",
    "grid_search_fine = GridSearchCV(\n",
    "    estimator=pipeline_fine,\n",
    "    param_grid=param_grid_fine,\n",
    "    scoring='neg_mean_squared_error',\n",
    "    cv=5,\n",
    "    n_jobs=-1,\n",
    "    verbose=1\n",
    ")\n",
    "\n",
    "# Fit the model with groups for the fine-tuning grid search\n",
    "grid_search_fine.fit(X=X_train, y=y_train, groups=groups)\n",
    "\n",
    "# Extract new best parameters\n",
    "new_best_params = grid_search_fine.best_params_\n",
    "print(\"New best parameters:\", new_best_params)\n"
   ]
  },
  {
   "cell_type": "markdown",
   "metadata": {},
   "source": [
    "Best parameters: {'adaboost__learning_rate': 1, 'adaboost__n_estimators': 30, 'nystroem__gamma': 0.1, 'nystroem__kernel': 'sigmoid', 'nystroem__n_components': 300}\n"
   ]
  },
  {
   "cell_type": "code",
   "execution_count": 29,
   "metadata": {},
   "outputs": [
    {
     "name": "stdout",
     "output_type": "stream",
     "text": [
      "Test Score: -0.050409773620879283\n",
      "Mean Squared Error (MSE): 42.0076913832957\n",
      "Mean Absolute Error (MAE): 5.671501079593692\n",
      "Coefficient of Determination (R²): -0.050409773620879283\n"
     ]
    }
   ],
   "source": [
    "# Using the best parameters from your grid searches\n",
    "final_nystroem = Nystroem(\n",
    "    kernel=best_params['nystroem__kernel'],  # From best parameters\n",
    "    gamma=new_best_params['nystroem__gamma'],  # From new best parameters\n",
    "    n_components=best_params['nystroem__n_components'],  # From best parameters\n",
    "    random_state=1\n",
    ")\n",
    "\n",
    "# Initialize AdaBoostRegressor with the updated parameters\n",
    "final_adaboost = AdaBoostRegressor(\n",
    "    estimator=DecisionTreeRegressor(max_depth=16, random_state=42),\n",
    "    n_estimators=new_best_params['adaboost__n_estimators'],  # From new best parameters\n",
    "    learning_rate=new_best_params['adaboost__learning_rate'],  # From new best parameters\n",
    "    random_state=42\n",
    ")\n",
    "\n",
    "# Set up the final pipeline with the selected parameters\n",
    "final_pipeline = Pipeline([\n",
    "    ('scaler', StandardScaler()),\n",
    "    ('nystroem', final_nystroem),\n",
    "    ('adaboost', final_adaboost)  # Using AdaBoostRegressor here\n",
    "])\n",
    "\n",
    "# Train the model on the entire training dataset\n",
    "final_pipeline.fit(X=X_train, y=y_train)\n",
    "\n",
    "# Optionally, evaluate the model on the test dataset\n",
    "test_score = final_pipeline.score(X=X_test, y=y_test)\n",
    "print(f\"Test Score: {test_score}\")\n",
    "\n",
    "# Use the model to make predictions\n",
    "predictions = final_pipeline.predict(X=X_test)\n",
    "\n",
    "# Calculate MSE, MAE, and R²\n",
    "mse = mean_squared_error(y_true=y_test, y_pred=predictions)\n",
    "mae = mean_absolute_error(y_true=y_test, y_pred=predictions)\n",
    "r2 = r2_score(y_true=y_test, y_pred=predictions)\n",
    "\n",
    "print(f\"Mean Squared Error (MSE): {mse}\")\n",
    "print(f\"Mean Absolute Error (MAE): {mae}\")\n",
    "print(f\"Coefficient of Determination (R²): {r2}\")\n"
   ]
  },
  {
   "cell_type": "markdown",
   "metadata": {},
   "source": [
    "With StandarScaler:\n",
    "Test Score: 0.1612956772646813\n",
    "Mean Squared Error (MSE): 12.934439422717016\n",
    "Mean Absolute Error (MAE): 2.1590231197897602\n",
    "Coefficient of Determination (R²): 0.1612956772646813"
   ]
  },
  {
   "cell_type": "code",
   "execution_count": null,
   "metadata": {},
   "outputs": [],
   "source": []
  }
 ],
 "metadata": {
  "kernelspec": {
   "display_name": "openai",
   "language": "python",
   "name": "openai"
  },
  "language_info": {
   "codemirror_mode": {
    "name": "ipython",
    "version": 3
   },
   "file_extension": ".py",
   "mimetype": "text/x-python",
   "name": "python",
   "nbconvert_exporter": "python",
   "pygments_lexer": "ipython3",
   "version": "3.9.5"
  }
 },
 "nbformat": 4,
 "nbformat_minor": 2
}
