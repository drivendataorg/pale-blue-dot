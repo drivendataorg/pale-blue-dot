{
 "cells": [
  {
   "cell_type": "code",
   "execution_count": 1,
   "metadata": {},
   "outputs": [],
   "source": [
    "!pip3 install -q --upgrade pip\n",
    "!pip3 install -q pandas numpy matplotlib seaborn openpyxl climateserv requests netCDF4 xarray pyproj statsmodels"
   ]
  },
  {
   "cell_type": "code",
   "execution_count": 23,
   "metadata": {},
   "outputs": [],
   "source": [
    "import sys\n",
    "from pathlib import Path\n",
    "\n",
    "# Calculate the path to the scripts folder relative to the current notebook.\n",
    "scripts_dir = Path(\"../../\").resolve()\n",
    "\n",
    "# Add the scripts directory to the sys.path if it's not already there.\n",
    "if str(scripts_dir) not in sys.path:\n",
    "    sys.path.append(str(scripts_dir))\n",
    "\n",
    "import pandas as pd\n",
    "import matplotlib.pyplot as plt\n",
    "import seaborn as sns\n",
    "import pandas as pd\n",
    "from sklearn.model_selection import train_test_split\n",
    "from sklearn.ensemble import RandomForestRegressor\n",
    "from sklearn.metrics import mean_absolute_error, mean_squared_error, r2_score\n",
    "import pandas as pd\n",
    "from sklearn.model_selection import train_test_split, GridSearchCV\n",
    "from sklearn.ensemble import RandomForestRegressor\n",
    "from sklearn.metrics import mean_absolute_error, mean_squared_error, r2_score\n",
    "import matplotlib.pyplot as plt\n",
    "import numpy as np\n",
    "import warnings\n",
    "from sklearn.model_selection import GroupKFold, GridSearchCV\n",
    "from sklearn.ensemble import RandomForestRegressor"
   ]
  },
  {
   "cell_type": "code",
   "execution_count": 32,
   "metadata": {},
   "outputs": [
    {
     "name": "stdout",
     "output_type": "stream",
     "text": [
      "Fitting 5 folds for each of 1458 candidates, totalling 7290 fits\n",
      "Best parameters: {'bootstrap': True, 'ccp_alpha': 0.01, 'max_depth': 10, 'max_features': 'sqrt', 'max_samples': None, 'min_samples_leaf': 2, 'min_samples_split': 2, 'n_estimators': 100}\n"
     ]
    }
   ],
   "source": [
    "# Assuming the CSV file is named \"data.csv\" and is located in the same directory as the notebook\n",
    "df = pd.read_csv(\"../../data/processed_data/wells_data_gambia_for_machine_learning.csv\")\n",
    "# Mapping each unique string in 'DepthToGroundwater' to an integer\n",
    "unique_values = df['DepthToGroundwater'].unique()\n",
    "value_to_int = {value: idx for idx, value in enumerate(unique_values)}\n",
    "# Apply the mapping to the column\n",
    "df['DepthToGroundwater'] = df['DepthToGroundwater'].map(value_to_int)\n",
    "\n",
    "# Your existing code for train-test split\n",
    "unique_ids = df['ID'].unique()\n",
    "train_ids, test_ids = train_test_split(unique_ids, test_size=0.1, random_state=42)\n",
    "train_df = df[df['ID'].isin(train_ids)]\n",
    "test_df = df[df['ID'].isin(test_ids)]\n",
    "\n",
    "X_train = train_df.drop(columns=['GROUNDWATER_LEVEL', 'ID', 'Date'])\n",
    "y_train = train_df['GROUNDWATER_LEVEL']\n",
    "X_test = test_df.drop(columns=['GROUNDWATER_LEVEL', 'ID', 'Date'])\n",
    "y_test = test_df['GROUNDWATER_LEVEL']\n",
    "\n",
    "# Prepara los grupos para GroupKFold\n",
    "groups = df['ID']  # Asegúrate de que 'ID' sea la columna que identifica a cada pozo\n",
    "\n",
    "def create_param_grid():\n",
    "    # Combinaciones base\n",
    "    base_param_grid = {\n",
    "        'n_estimators': [100, 200],\n",
    "        'max_depth': [10, 20, 30],\n",
    "        'min_samples_split': [2, 5, 10],\n",
    "        'min_samples_leaf': [1, 2, 4],\n",
    "        'max_features': ['sqrt', 'log2', None],\n",
    "        'ccp_alpha': [0.0, 0.01, 0.1],\n",
    "    }\n",
    "\n",
    "    # Combinaciones para bootstrap=True\n",
    "    bootstrap_true_grid = {**base_param_grid, 'bootstrap': [True], 'max_samples': [0.8, None]}\n",
    "\n",
    "    # Combinaciones para bootstrap=False\n",
    "    bootstrap_false_grid = {**base_param_grid, 'bootstrap': [False], 'max_samples': [None]}\n",
    "\n",
    "    # Unimos las dos listas de combinaciones\n",
    "    return [bootstrap_true_grid, bootstrap_false_grid]\n",
    "\n",
    "# Configura el GridSearchCV con GroupKFold\n",
    "gkf = GroupKFold(n_splits=5)\n",
    "\n",
    "param_grid = create_param_grid()\n",
    "\n",
    "rf = RandomForestRegressor(random_state=42, oob_score=True)  # Considera ajustar oob_score si es necesario\n",
    "\n",
    "# Ignora las advertencias de OOB si decides mantener oob_score=True\n",
    "warnings.filterwarnings('ignore', message='Some inputs do not have OOB scores. This probably means too few trees were used to compute any reliable OOB estimates.')\n",
    "\n",
    "# Configuración de GridSearchCV con verbosidad reducida\n",
    "grid_search = GridSearchCV(\n",
    "    estimator=rf,\n",
    "    param_grid=param_grid,\n",
    "    cv=gkf,\n",
    "    n_jobs=-1,\n",
    "    verbose=1,  # Reducir el nivel de verbosidad\n",
    "    scoring='neg_mean_squared_error',\n",
    "    error_score=np.nan  # Establecer aquí para manejar errores\n",
    ")\n",
    "\n",
    "# Separa las características y la etiqueta, sin dividir aún en conjuntos de entrenamiento y prueba\n",
    "X = df.drop(columns=['GROUNDWATER_LEVEL', 'ID', 'Date'])\n",
    "y = df['GROUNDWATER_LEVEL']\n",
    "\n",
    "# Ajusta el modelo (aquí también podrías capturar las advertencias)\n",
    "with warnings.catch_warnings():\n",
    "    warnings.simplefilter('ignore', category=UserWarning)\n",
    "    warnings.filterwarnings('ignore', message='Some inputs do not have OOB scores. This probably means too few trees were used to compute any reliable OOB estimates.')\n",
    "    # Llamada a GridSearchCV o ajuste del RandomForestRegressor\n",
    "    grid_search.fit(X, y, groups=groups)\n",
    "\n",
    "# Los mejores parámetros y el mejor modelo se pueden obtener de grid_search como antes\n",
    "best_params = grid_search.best_params_\n",
    "print(\"Best parameters:\", best_params)"
   ]
  },
  {
   "cell_type": "markdown",
   "metadata": {},
   "source": []
  },
  {
   "cell_type": "code",
   "execution_count": 33,
   "metadata": {},
   "outputs": [
    {
     "name": "stdout",
     "output_type": "stream",
     "text": [
      "Mean MSE from group cross-validation: -23.685039556594653\n",
      "Standard Deviation of MSE from group cross-validation: 14.20276084828574\n",
      "Mean MAE from group cross-validation: 3.4927295611538804\n",
      "Mean R² from group cross-validation: 0.011781222591570351\n"
     ]
    }
   ],
   "source": [
    "from sklearn.model_selection import GroupKFold, cross_val_score\n",
    "from sklearn.metrics import make_scorer\n",
    "\n",
    "# Configuración del modelo con los mejores parámetros encontrados\n",
    "best_rf = RandomForestRegressor(\n",
    "    n_estimators=best_params['n_estimators'],\n",
    "    max_depth=best_params['max_depth'],\n",
    "    min_samples_split=best_params['min_samples_split'],\n",
    "    min_samples_leaf=best_params['min_samples_leaf'],\n",
    "    max_features=best_params['max_features'],\n",
    "    random_state=42,\n",
    "    oob_score=True\n",
    ")\n",
    "\n",
    "# Preparar el GroupKFold para la validación cruzada\n",
    "gkf = GroupKFold(n_splits=5)\n",
    "\n",
    "# Preparar el scorer basado en MSE para que funcione con cross_val_score\n",
    "mse_scorer = make_scorer(mean_squared_error, greater_is_better=False)\n",
    "\n",
    "# Ejecutar la validación cruzada por grupos\n",
    "scores = cross_val_score(best_rf, X, y, groups=groups, cv=gkf, scoring=mse_scorer)\n",
    "\n",
    "# Calcular la media y el desvío estándar de los scores\n",
    "mean_score = scores.mean()\n",
    "std_score = scores.std()\n",
    "\n",
    "print(f\"Mean MSE from group cross-validation: {mean_score}\")\n",
    "print(f\"Standard Deviation of MSE from group cross-validation: {std_score}\")\n",
    "\n",
    "# Para MAE y R², puedes definir otros scorers y repetir el proceso\n",
    "mae_scorer = make_scorer(mean_absolute_error, greater_is_better=False)\n",
    "r2_scorer = make_scorer(r2_score)\n",
    "\n",
    "mae_scores = cross_val_score(best_rf, X, y, groups=groups, cv=gkf, scoring=mae_scorer)\n",
    "r2_scores = cross_val_score(best_rf, X, y, groups=groups, cv=gkf, scoring=r2_scorer)\n",
    "\n",
    "print(f\"Mean MAE from group cross-validation: {-mae_scores.mean()}\")  # Note el signo negativo para corregir el 'greater_is_better=False'\n",
    "print(f\"Mean R² from group cross-validation: {r2_scores.mean()}\")\n"
   ]
  },
  {
   "cell_type": "code",
   "execution_count": null,
   "metadata": {},
   "outputs": [],
   "source": []
  },
  {
   "cell_type": "code",
   "execution_count": null,
   "metadata": {},
   "outputs": [],
   "source": []
  },
  {
   "cell_type": "code",
   "execution_count": null,
   "metadata": {},
   "outputs": [],
   "source": []
  }
 ],
 "metadata": {
  "kernelspec": {
   "display_name": "openai",
   "language": "python",
   "name": "openai"
  },
  "language_info": {
   "codemirror_mode": {
    "name": "ipython",
    "version": 3
   },
   "file_extension": ".py",
   "mimetype": "text/x-python",
   "name": "python",
   "nbconvert_exporter": "python",
   "pygments_lexer": "ipython3",
   "version": "3.9.5"
  }
 },
 "nbformat": 4,
 "nbformat_minor": 2
}
