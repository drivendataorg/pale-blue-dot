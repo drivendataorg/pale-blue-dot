{
 "cells": [
  {
   "cell_type": "code",
   "execution_count": 1,
   "metadata": {},
   "outputs": [],
   "source": [
    "!pip3 install -q --upgrade pip\n",
    "!pip3 install -q pandas numpy matplotlib seaborn openpyxl requests xarray pyproj statsmodels"
   ]
  },
  {
   "cell_type": "code",
   "execution_count": 2,
   "metadata": {},
   "outputs": [
    {
     "name": "stdout",
     "output_type": "stream",
     "text": [
      "Note: you may need to restart the kernel to use updated packages.\n"
     ]
    }
   ],
   "source": [
    "%pip install -q tensorflow"
   ]
  },
  {
   "cell_type": "markdown",
   "metadata": {},
   "source": []
  },
  {
   "cell_type": "code",
   "execution_count": 3,
   "metadata": {},
   "outputs": [
    {
     "ename": "",
     "evalue": "",
     "output_type": "error",
     "traceback": [
      "\u001b[1;31mThe Kernel crashed while executing code in the the current cell or a previous cell. Please review the code in the cell(s) to identify a possible cause of the failure. Click <a href='https://aka.ms/vscodeJupyterKernelCrash'>here</a> for more info. View Jupyter <a href='command:jupyter.viewOutput'>log</a> for further details."
     ]
    }
   ],
   "source": [
    "import tensorflow as tf"
   ]
  },
  {
   "cell_type": "code",
   "execution_count": null,
   "metadata": {},
   "outputs": [],
   "source": [
    "from tensorflow import keras"
   ]
  },
  {
   "cell_type": "code",
   "execution_count": null,
   "metadata": {},
   "outputs": [],
   "source": [
    "from tensorflow.keras.wrappers.scikit_learn import KerasRegressor"
   ]
  },
  {
   "cell_type": "code",
   "execution_count": 3,
   "metadata": {},
   "outputs": [
    {
     "ename": "",
     "evalue": "",
     "output_type": "error",
     "traceback": [
      "\u001b[1;31mThe Kernel crashed while executing code in the the current cell or a previous cell. Please review the code in the cell(s) to identify a possible cause of the failure. Click <a href='https://aka.ms/vscodeJupyterKernelCrash'>here</a> for more info. View Jupyter <a href='command:jupyter.viewOutput'>log</a> for further details."
     ]
    }
   ],
   "source": [
    "import sys\n",
    "from pathlib import Path\n",
    "\n",
    "# Calculate the path to the scripts folder relative to the current notebook.\n",
    "scripts_dir = Path(\"../../\").resolve()\n",
    "\n",
    "# Add the scripts directory to the sys.path if it's not already there.\n",
    "if str(scripts_dir) not in sys.path:\n",
    "    sys.path.append(str(scripts_dir))\n",
    "\n",
    "import numpy as np\n",
    "import pandas as pd\n",
    "from sklearn.model_selection import train_test_split\n",
    "from sklearn.model_selection import GroupKFold, GridSearchCV\n",
    "from sklearn.model_selection import RandomizedSearchCV, GroupKFold\n",
    "from sklearn.metrics import mean_squared_error, mean_absolute_error, r2_score"
   ]
  },
  {
   "cell_type": "code",
   "execution_count": 3,
   "metadata": {},
   "outputs": [],
   "source": [
    "# Assuming the CSV file is named \"data.csv\" and is located in the same directory as the notebook\n",
    "df = pd.read_csv(\"../../data/processed_data/wells_data_gambia_for_machine_learning.csv\")\n",
    "# Mapping each unique string in 'DepthToGroundwater' to an integer\n",
    "unique_values = df['DepthToGroundwater'].unique()\n",
    "value_to_int = {value: idx for idx, value in enumerate(unique_values)}\n",
    "# Apply the mapping to the column\n",
    "df['DepthToGroundwater'] = df['DepthToGroundwater'].map(value_to_int)"
   ]
  },
  {
   "cell_type": "code",
   "execution_count": null,
   "metadata": {},
   "outputs": [],
   "source": []
  },
  {
   "cell_type": "code",
   "execution_count": null,
   "metadata": {},
   "outputs": [],
   "source": [
    "# Your existing code for train-test split\n",
    "unique_ids = df['ID'].unique()\n",
    "train_ids, test_ids = train_test_split(unique_ids, test_size=0.1, random_state=42)\n",
    "train_df = df[df['ID'].isin(train_ids)]\n",
    "test_df = df[df['ID'].isin(test_ids)]\n",
    "\n",
    "X_train = train_df.drop(columns=['GROUNDWATER_LEVEL', 'ID', 'Date'])\n",
    "y_train = train_df['GROUNDWATER_LEVEL']\n",
    "X_test = test_df.drop(columns=['GROUNDWATER_LEVEL', 'ID', 'Date'])\n",
    "y_test = test_df['GROUNDWATER_LEVEL']\n",
    "\n",
    "# Crear una función que construya el modelo de Keras\n",
    "def build_model(n_layers=1, n_neurons=30, activation='relu', optimizer='adam'):\n",
    "    model = keras.models.Sequential()\n",
    "    model.add(keras.layers.InputLayer(input_shape=X_train.shape[1:]))\n",
    "    for _ in range(n_layers):\n",
    "        model.add(keras.layers.Dense(n_neurons, activation=activation))\n",
    "        # Considera agregar Dropout o regularización aquí si es necesario\n",
    "    model.add(keras.layers.Dense(1))  # Salida para regresión\n",
    "    model.compile(loss='mean_squared_error', optimizer=optimizer)\n",
    "    return model\n",
    "\n",
    "# Envolver el modelo de Keras con KerasRegressor\n",
    "keras_reg = KerasRegressor(build_fn=build_model)\n",
    "\n",
    "# Definir la cuadrícula de búsqueda (esto es solo un ejemplo)\n",
    "param_distribs = {\n",
    "    'n_layers': [1, 2, 3],\n",
    "    'n_neurons': np.arange(1, 100),\n",
    "    'activation': ['relu', 'tanh'],\n",
    "    'optimizer': ['adam', 'sgd'],\n",
    "}\n",
    "\n",
    "# Preparar GroupKFold para la validación cruzada\n",
    "groups = df['ID'].values  # Asegúrate de que 'ID' sea la columna que identifica a cada pozo\n",
    "gkf = GroupKFold(n_splits=5)\n",
    "\n",
    "# Usar RandomizedSearchCV para buscar los hiperparámetros\n",
    "rnd_search_cv = RandomizedSearchCV(keras_reg, param_distribs, n_iter=10, cv=gkf, scoring='neg_mean_squared_error')\n",
    "\n",
    "# Ajustar RandomizedSearchCV\n",
    "X = df.drop(columns=['GROUNDWATER_LEVEL', 'ID', 'Date']).values\n",
    "y = df['GROUNDWATER_LEVEL'].values\n",
    "\n",
    "rnd_search_cv.fit(X, y, groups=groups, epochs=100,\n",
    "                  validation_split=0.1, callbacks=[keras.callbacks.EarlyStopping(patience=10)])\n",
    "\n",
    "# Los mejores parámetros y el mejor modelo se pueden obtener de rnd_search_cv\n",
    "print(\"Best parameters:\", rnd_search_cv.best_params_)\n",
    "\n",
    "# Evaluar el mejor modelo\n",
    "model = rnd_search_cv.best_estimator_.model\n",
    "mse_test = mean_squared_error(y_test, model.predict(X_test))\n",
    "mae_test = mean_absolute_error(y_test, model.predict(X_test))\n",
    "r2_test = r2_score(y_test, model.predict(X_test))\n",
    "\n",
    "print(f\"Test MSE: {mse_test}\")\n",
    "print(f\"Test MAE: {mae_test}\")\n",
    "print(f\"Test R^2: {r2_test}\")\n"
   ]
  },
  {
   "cell_type": "code",
   "execution_count": null,
   "metadata": {},
   "outputs": [],
   "source": []
  }
 ],
 "metadata": {
  "kernelspec": {
   "display_name": "openai",
   "language": "python",
   "name": "openai"
  },
  "language_info": {
   "codemirror_mode": {
    "name": "ipython",
    "version": 3
   },
   "file_extension": ".py",
   "mimetype": "text/x-python",
   "name": "python",
   "nbconvert_exporter": "python",
   "pygments_lexer": "ipython3",
   "version": "3.9.5"
  }
 },
 "nbformat": 4,
 "nbformat_minor": 2
}
