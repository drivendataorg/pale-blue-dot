{
 "cells": [
  {
   "cell_type": "markdown",
   "metadata": {},
   "source": [
    "## This script are an example in how to use the AppEARS API. Login, create token, submit a task, download the files from the task submited after its completed and save it. "
   ]
  },
  {
   "cell_type": "markdown",
   "metadata": {},
   "source": [
    "### First we make explicit the installation of libraries we will use and the importing."
   ]
  },
  {
   "cell_type": "code",
   "execution_count": 1,
   "metadata": {},
   "outputs": [],
   "source": [
    "!pip3 install -q --upgrade pip\n",
    "!pip3 install -q pandas numpy matplotlib seaborn openpyxl climateserv requests netCDF4 xarray pyproj python-dotenv"
   ]
  },
  {
   "cell_type": "code",
   "execution_count": 2,
   "metadata": {},
   "outputs": [],
   "source": [
    "import sys\n",
    "from pathlib import Path\n",
    "\n",
    "# Calculate the path to the scripts folder relative to the current notebook.\n",
    "scripts_dir = Path(\"../../\").resolve()\n",
    "\n",
    "# Add the scripts directory to the sys.path if it's not already there.\n",
    "if str(scripts_dir) not in sys.path:\n",
    "    sys.path.append(str(scripts_dir))"
   ]
  },
  {
   "cell_type": "code",
   "execution_count": 3,
   "metadata": {},
   "outputs": [],
   "source": [
    "import os\n",
    "import json\n",
    "import time\n",
    "import requests\n",
    "import pandas as pd\n",
    "from dotenv import load_dotenv\n",
    "from typing import Dict, List, Tuple, Optional, Any\n",
    "\n",
    "\n",
    "# Load environment variables from .env file\n",
    "load_dotenv()\n",
    "\n",
    "from scripts.preprocessing.api_appears import login, get_products, create_dataframe, submit_task, check_all_tasks_status\n",
    "from scripts.preprocessing.api_appears import check_specific_task_status, create_and_submit_task, download_and_save_results\n",
    "from scripts.preprocessing.api_appears import list_files_in_bundle, download_file_from_bundle, save_task_ids_to_csv, process_csv_and_submit_tasks"
   ]
  },
  {
   "cell_type": "markdown",
   "metadata": {},
   "source": [
    "### Here below we make the login using our username and passwords, values that need to be confidencial. So we save this values into a .env file"
   ]
  },
  {
   "cell_type": "code",
   "execution_count": 4,
   "metadata": {},
   "outputs": [
    {
     "data": {
      "text/plain": [
       "'Z_4Y-vX8iITm4IJbGE9lCivZMq4nYrWz2k3L5qQhsLnNTvOWYlptLNAf0Q2R5DcpW23fQRQ4pEvGGfOIidpQOg'"
      ]
     },
     "execution_count": 4,
     "metadata": {},
     "output_type": "execute_result"
    }
   ],
   "source": [
    "# Example Usage\n",
    "username = os.getenv('EARTHDATA_USERNAME')\n",
    "password = os.getenv('EARTHDATA_PASSWORD')\n",
    "\n",
    "# Login and get token\n",
    "token = login(username=username, password=password)\n",
    "\n",
    "token"
   ]
  },
  {
   "cell_type": "markdown",
   "metadata": {},
   "source": [
    "### Here below we use a dataframe to extract all the points (latitude and longitude) we want to make a task (extract information from AppEARS products)."
   ]
  },
  {
   "cell_type": "code",
   "execution_count": 5,
   "metadata": {},
   "outputs": [
    {
     "name": "stdout",
     "output_type": "stream",
     "text": [
      "Submitted task for ID 0000058001, coordinates (13.4984817969726, -14.7573025092349). Task ID: 233a5ccc-7531-4885-b158-062b9b185481\n",
      "Submitted task for ID 0000035001, coordinates (13.5172450917462, -15.242125038732). Task ID: bc3d7956-0bf3-415b-9201-b258585ea970\n",
      "Submitted task for ID 0000024001, coordinates (13.2089634495222, -16.2989315774497). Task ID: dd52548a-8010-4405-a233-d8412eb51317\n",
      "Submitted task for ID 0000023001, coordinates (13.2330569152907, -16.5047276118478). Task ID: d3582106-0e27-4c81-a710-4a1b9ff58387\n",
      "Submitted task for ID 0000020007, coordinates (13.362761, -16.637219). Task ID: 1d92191d-5ffe-491c-beca-a6dc1d338e94\n",
      "Submitted task for ID 0000020006, coordinates (13.3608101076666, -16.625421). Task ID: c7f74381-731a-4507-b236-fe377124444c\n",
      "Submitted task for ID 0000022001, coordinates (13.3299965083864, -16.6587771128152). Task ID: 6d52a1e8-d83c-4619-a253-619a803de618\n",
      "Submitted task for ID 0000020005, coordinates (13.3847523742244, -16.6797212636949). Task ID: 446723f0-a619-4845-8a7d-95cd6ee25706\n",
      "Submitted task for ID 0000020009, coordinates (13.3949162854657, -16.664077). Task ID: 82daadac-dc77-4ba0-b349-af3cd2aca4c7\n",
      "Submitted task for ID 0000000001, coordinates (13.4208039, -16.716666). Task ID: db980aa4-d06f-444b-a609-1e4782c01ad0\n",
      "Submitted task for ID NWP45001, coordinates (13.5833985686072, -15.5814345809414). Task ID: 4b463f10-c324-4737-82df-9388e9776889\n",
      "Submitted task for ID NWP22002, coordinates (13.302783, -16.65972). Task ID: 29755024-ad63-4ec4-acf6-c6138ee95c98\n",
      "Submitted task for ID NWP50001, coordinates (13.6710948906584, -15.3988131430328). Task ID: 9e8ae050-0480-410f-b1a6-24780cf93013\n",
      "Submitted task for ID NWP54002, coordinates (13.6344360305248, -14.8271163457013). Task ID: 4e2c473d-d751-46ac-bfbd-8324bd85297c\n",
      "Submitted task for ID NWP20008, coordinates (13.385648, -16.64671). Task ID: d7885eff-2b17-4205-a0a6-0c99eb25425e\n",
      "Submitted task for ID NWP20003, coordinates (13.358333, -16.726389). Task ID: 35ce49fb-c310-46e7-950d-d9b0c45ff34d\n",
      "Submitted task for ID NWP62001, coordinates (13.50515436634058, -13.9373833348597). Task ID: 17626e40-b0a5-45e5-be5b-416984902b74\n",
      "Submitted task for ID NWP61001, coordinates (13.3980614120398, -13.8742538739228). Task ID: 59d56224-80e2-4901-b38b-8b1758432c4b\n",
      "Submitted task for ID NWP60001, coordinates (13.29635905130469, -14.204223870467). Task ID: ddc0eeef-9030-482a-9e6b-c96d41d6a2e3\n",
      "Submitted task for ID NWP58002, coordinates (13.36180451581788, -14.5608362772974). Task ID: 0d672465-1bc3-484c-9754-8e16a6d1a1da\n",
      "Submitted task for ID NWP58001, coordinates (13.4984818, -14.7573025). Task ID: 8b50705b-7c43-4982-8f08-7788dea749ae\n",
      "Submitted task for ID NWP58011, coordinates (13.50524383718899, -14.9272670700342). Task ID: 8a8ed697-9326-4fe1-8c4b-1a1d24eb56a9\n",
      "Submitted task for ID NWP35001, coordinates (13.5172450917462, -15.242125038732). Task ID: 3df9f3a5-c84a-44b1-931d-d8574a06d879\n",
      "Submitted task for ID NWP33001, coordinates (13.4413165456322, -15.51794086557469). Task ID: 288bd6f6-78f9-4146-8789-dfdb6347ce41\n",
      "Submitted task for ID NWP31001, coordinates (13.39610557899178, -15.7933413454468). Task ID: e956c8ea-89c9-4739-b59a-9a9459737920\n",
      "Submitted task for ID NWP27001, coordinates (13.22752284786961, -15.957014970713). Task ID: b4d718f5-40b9-404c-854e-6961347ec9ae\n",
      "Submitted task for ID NWP21002, coordinates (13.2402809, -16.7138891). Task ID: 9968976c-cbfd-4399-8ab9-8e38a1dfdebb\n",
      "Submitted task for ID NWP22003, coordinates (13.30277368516689, -16.659717). Task ID: 0403eb0f-bd7b-4e25-b3ba-3e39df8cc572\n",
      "Submitted task for ID NWP22001, coordinates (13.3299965, -16.6587771). Task ID: a2cbc76c-d12a-40f9-bf64-ac88a386534a\n",
      "Submitted task for ID NWP20004, coordinates (13.39594387212938, -16.6740837455996). Task ID: b9e4aeae-7e1d-43f0-bb57-b4ab1f19bd14\n",
      "Submitted task for ID NWP20023, coordinates (13.3305867518767, -16.7074159260369). Task ID: 1a2091cb-5926-410d-a760-f9a7861e39dc\n",
      "Submitted task for ID NWP20025, coordinates (13.32958160853759, -16.7049997). Task ID: 0c73e734-2245-4a07-ba01-45bc426b9300\n",
      "Submitted task for ID NWP20002, coordinates (13.39566517731999, -16.7433273178684). Task ID: deccefbb-f74e-4357-a534-11c0a43509c3\n",
      "Submitted task for ID NWP00001, coordinates (13.42080389502958, -16.716666). Task ID: a3cab1ae-69e7-4dd8-988f-89a7f6a5cce5\n",
      "Submitted task for ID NWP13001, coordinates (13.46607878570081, -16.6927180557435). Task ID: 8e0666f9-bd49-4a6b-a880-ab54203e1c85\n",
      "Submitted task for ID NWP20009, coordinates (13.3949163, -16.664077). Task ID: 91311870-a06e-4e72-8ef3-b33584052324\n",
      "Submitted task for ID NWP20007, coordinates (13.362761, -16.637219). Task ID: 53b09fd3-c4f2-4dfd-b6a5-621ffd3df73e\n",
      "Submitted task for ID NWP20024, coordinates (13.317777, -16.68056). Task ID: f587e867-0b08-4026-8d7c-8476ad1cf4e1\n",
      "Submitted task for ID NWP40001, coordinates (13.53768898834499, -16.3145439391254). Task ID: fdf7806d-8319-47e3-911a-799c9c7e4cb2\n",
      "Submitted task for ID NWP43001, coordinates (13.52594141368379, -16.02751343777). Task ID: cb3191ab-bc14-401c-b429-7bbad4de2d94\n",
      "Submitted task for ID NWP51001, coordinates (13.7477866874478, -15.2308252132835). Task ID: 674afbb5-e9e6-4875-9bda-c7da84ed5107\n",
      "Submitted task for ID NWP54001, coordinates (13.6305918, -14.58784). Task ID: 204e39b9-1594-4b28-8cf8-8c5f7b400279\n",
      "Submitted task for ID NWP62002, coordinates (13.4252721, -14.2060734). Task ID: f48121df-5470-4f97-9698-9ec37d0a7e2b\n",
      "Submitted task for ID NWP24001, coordinates (13.20896344952219, -16.2989315774497). Task ID: cc7645e8-b0c1-4a8c-b080-51e7c66b804c\n",
      "Submitted task for ID NWP23001, coordinates (13.2330569, -16.5047276). Task ID: 2aded398-49e7-4237-8b44-1fa1e257936f\n",
      "Submitted task for ID NWP20006, coordinates (13.36081010766659, -16.625421). Task ID: fa715905-0673-4fb1-961c-dd64ba2d6d4a\n",
      "Submitted task for ID NWP20005, coordinates (13.38475237422439, -16.6797212636949). Task ID: f2e3563a-e087-490e-b41d-9862da228610\n",
      "Task IDs saved to ../../data/original_data/appears/ndvi/tasks_ndvi_wells_gambia.csv\n"
     ]
    }
   ],
   "source": [
    "# Define the task parameters\n",
    "task_type = 'point'  # Changed from 'area' to 'point'\n",
    "task_name = 'NDVI-AquaViva-Point-250mts-16days-MOD13Q1'\n",
    "start_date = '01-01-2015'  # Adjust as needed\n",
    "end_date = '12-31-2022'    # Adjust as needed\n",
    "product = 'MOD13Q1.061'\n",
    "file_type = 'netcdf4'\n",
    "# Since it's a point task, we won't use a GeoJSON object\n",
    "geojson = None\n",
    "\n",
    "# Create a list of layers as per your area task\n",
    "layers = [\n",
    "    \"_250m_16_days_EVI\",\n",
    "    \"_250m_16_days_NDVI\",\n",
    "    \"_250m_16_days_MIR_reflectance\",\n",
    "    \"_250m_16_days_VI_Quality\",\n",
    "    \"_250m_16_days_composite_day_of_the_year\",\n",
    "    \"_250m_16_days_pixel_reliability\"\n",
    "]\n",
    "\n",
    "# Process the CSV and submit tasks\n",
    "csv_file_path = '../../data/processed_data/igrac/wells_gambia.csv'\n",
    "tasks = process_csv_and_submit_tasks(csv_file=csv_file_path, \n",
    "                                     username=username, \n",
    "                                     password=password, \n",
    "                                     task_type=task_type, \n",
    "                                     base_task_name=task_name, \n",
    "                                     start_date=start_date, \n",
    "                                     end_date=end_date, \n",
    "                                     product=product, \n",
    "                                     file_type=file_type, \n",
    "                                     layers=layers,\n",
    "                                     geojson=geojson)\n",
    "\n",
    "# Save the task IDs to a new CSV file\n",
    "output_csv_path = '../../data/original_data/appears/ndvi/tasks_ndvi_wells_gambia.csv'\n",
    "save_task_ids_to_csv(tasks, output_csv_path)"
   ]
  },
  {
   "cell_type": "markdown",
   "metadata": {},
   "source": [
    "### Here below we can see all the files we can download from a particular task."
   ]
  },
  {
   "cell_type": "code",
   "execution_count": 6,
   "metadata": {},
   "outputs": [
    {
     "data": {
      "text/plain": [
       "{'files': [{'sha256': 'a64d9a634559b107f798d463f5bd0ec57e455b1c2d4645793df17d4a9ffa7598',\n",
       "   'file_id': '0dff60f9-8d60-4749-9095-b63f67319781',\n",
       "   'file_name': 'ALL-API-NDVI-AquaViva-Point-250mts-16days-MOD13Q1-MOD13Q1-061-results.csv',\n",
       "   'file_size': 71248,\n",
       "   'file_type': 'csv',\n",
       "   's3_url': 's3://appeears-output/ef2d3522-219b-4b48-a21a-f9bfcfb3d0b0/ALL-API-NDVI-AquaViva-Point-250mts-16days-MOD13Q1-MOD13Q1-061-results.csv'},\n",
       "  {'sha256': '25044b2da1e7ad7a0806e206df36f9c9c5f652d143daddcd530455032ca78eb7',\n",
       "   'file_id': 'e3023ab1-7f82-4325-bcb4-1b03ef8fa308',\n",
       "   'file_name': 'ALL-API-NDVI-AquaViva-Point-250mts-16days-MOD13Q1-granule-list.txt',\n",
       "   'file_size': 29970,\n",
       "   'file_type': 'txt',\n",
       "   's3_url': 's3://appeears-output/ef2d3522-219b-4b48-a21a-f9bfcfb3d0b0/ALL-API-NDVI-AquaViva-Point-250mts-16days-MOD13Q1-granule-list.txt'},\n",
       "  {'sha256': '3f75ccf5a33bb54e3452e35194f845c398ba5a5dbe46379b34ee15944d68f30b',\n",
       "   'file_id': '40be6438-8138-4e34-8fc6-51c05dc1c4e6',\n",
       "   'file_name': 'ALL-API-NDVI-AquaViva-Point-250mts-16days-MOD13Q1-request.json',\n",
       "   'file_size': 1177,\n",
       "   'file_type': 'json',\n",
       "   's3_url': 's3://appeears-output/ef2d3522-219b-4b48-a21a-f9bfcfb3d0b0/ALL-API-NDVI-AquaViva-Point-250mts-16days-MOD13Q1-request.json'},\n",
       "  {'sha256': 'e3e18dc9717424a16775a8b5eb30cb011a11a8892b8dfcadbb9aadca7acc0522',\n",
       "   'file_id': '00452485-0dfe-4fd7-add2-8f4154bbb4af',\n",
       "   'file_name': 'ALL-API-NDVI-AquaViva-Point-250mts-16days-MOD13Q1-MOD13Q1-061-metadata.xml',\n",
       "   'file_size': 16729,\n",
       "   'file_type': 'xml',\n",
       "   's3_url': 's3://appeears-output/ef2d3522-219b-4b48-a21a-f9bfcfb3d0b0/ALL-API-NDVI-AquaViva-Point-250mts-16days-MOD13Q1-MOD13Q1-061-metadata.xml'},\n",
       "  {'sha256': 'ec666095cc0418746b0162be169f604604f280b9d94e509d0e935acdb3692e10',\n",
       "   'file_id': '35c1867f-5d6c-4129-b88f-dd855ad219af',\n",
       "   'file_name': 'README.md',\n",
       "   'file_size': 22018,\n",
       "   'file_type': 'txt',\n",
       "   's3_url': 's3://appeears-output/ef2d3522-219b-4b48-a21a-f9bfcfb3d0b0/README.md'}],\n",
       " 'created': '2024-01-12T09:19:35.508033',\n",
       " 'task_id': 'ef2d3522-219b-4b48-a21a-f9bfcfb3d0b0',\n",
       " 'updated': '2024-01-12T09:20:22.455770',\n",
       " 'bundle_type': 'point'}"
      ]
     },
     "execution_count": 6,
     "metadata": {},
     "output_type": "execute_result"
    }
   ],
   "source": [
    "list_files_in_bundle(token=token, task_id='ef2d3522-219b-4b48-a21a-f9bfcfb3d0b0')"
   ]
  },
  {
   "cell_type": "markdown",
   "metadata": {},
   "source": [
    "### After all the tasks are ready to download we use the download_and_save_results to save it all the valuable files into a folder we specify"
   ]
  },
  {
   "cell_type": "code",
   "execution_count": 5,
   "metadata": {},
   "outputs": [
    {
     "name": "stdout",
     "output_type": "stream",
     "text": [
      "Processing Task ID: 233a5ccc-7531-4885-b158-062b9b185481 for Location ID: 0000058001\n",
      "File downloaded successfully: ../../data/original_data/appears/ndvi/0000058001.csv\n",
      "Downloaded file for Location ID: 0000058001 to ../../data/original_data/appears/ndvi/0000058001.csv\n",
      "Processing Task ID: bc3d7956-0bf3-415b-9201-b258585ea970 for Location ID: 0000035001\n",
      "File downloaded successfully: ../../data/original_data/appears/ndvi/0000035001.csv\n",
      "Downloaded file for Location ID: 0000035001 to ../../data/original_data/appears/ndvi/0000035001.csv\n",
      "Processing Task ID: dd52548a-8010-4405-a233-d8412eb51317 for Location ID: 0000024001\n",
      "File downloaded successfully: ../../data/original_data/appears/ndvi/0000024001.csv\n",
      "Downloaded file for Location ID: 0000024001 to ../../data/original_data/appears/ndvi/0000024001.csv\n",
      "Processing Task ID: d3582106-0e27-4c81-a710-4a1b9ff58387 for Location ID: 0000023001\n",
      "File downloaded successfully: ../../data/original_data/appears/ndvi/0000023001.csv\n",
      "Downloaded file for Location ID: 0000023001 to ../../data/original_data/appears/ndvi/0000023001.csv\n",
      "Processing Task ID: 1d92191d-5ffe-491c-beca-a6dc1d338e94 for Location ID: 0000020007\n",
      "File downloaded successfully: ../../data/original_data/appears/ndvi/0000020007.csv\n",
      "Downloaded file for Location ID: 0000020007 to ../../data/original_data/appears/ndvi/0000020007.csv\n",
      "Processing Task ID: c7f74381-731a-4507-b236-fe377124444c for Location ID: 0000020006\n",
      "File downloaded successfully: ../../data/original_data/appears/ndvi/0000020006.csv\n",
      "Downloaded file for Location ID: 0000020006 to ../../data/original_data/appears/ndvi/0000020006.csv\n",
      "Processing Task ID: 6d52a1e8-d83c-4619-a253-619a803de618 for Location ID: 0000022001\n",
      "File downloaded successfully: ../../data/original_data/appears/ndvi/0000022001.csv\n",
      "Downloaded file for Location ID: 0000022001 to ../../data/original_data/appears/ndvi/0000022001.csv\n",
      "Processing Task ID: 446723f0-a619-4845-8a7d-95cd6ee25706 for Location ID: 0000020005\n",
      "File downloaded successfully: ../../data/original_data/appears/ndvi/0000020005.csv\n",
      "Downloaded file for Location ID: 0000020005 to ../../data/original_data/appears/ndvi/0000020005.csv\n",
      "Processing Task ID: 82daadac-dc77-4ba0-b349-af3cd2aca4c7 for Location ID: 0000020009\n",
      "File downloaded successfully: ../../data/original_data/appears/ndvi/0000020009.csv\n",
      "Downloaded file for Location ID: 0000020009 to ../../data/original_data/appears/ndvi/0000020009.csv\n",
      "Processing Task ID: db980aa4-d06f-444b-a609-1e4782c01ad0 for Location ID: 0000000001\n",
      "File downloaded successfully: ../../data/original_data/appears/ndvi/0000000001.csv\n",
      "Downloaded file for Location ID: 0000000001 to ../../data/original_data/appears/ndvi/0000000001.csv\n",
      "Processing Task ID: 4b463f10-c324-4737-82df-9388e9776889 for Location ID: NWP45001\n",
      "File downloaded successfully: ../../data/original_data/appears/ndvi/NWP45001.csv\n",
      "Downloaded file for Location ID: NWP45001 to ../../data/original_data/appears/ndvi/NWP45001.csv\n",
      "Processing Task ID: 29755024-ad63-4ec4-acf6-c6138ee95c98 for Location ID: NWP22002\n",
      "File downloaded successfully: ../../data/original_data/appears/ndvi/NWP22002.csv\n",
      "Downloaded file for Location ID: NWP22002 to ../../data/original_data/appears/ndvi/NWP22002.csv\n",
      "Processing Task ID: 9e8ae050-0480-410f-b1a6-24780cf93013 for Location ID: NWP50001\n",
      "File downloaded successfully: ../../data/original_data/appears/ndvi/NWP50001.csv\n",
      "Downloaded file for Location ID: NWP50001 to ../../data/original_data/appears/ndvi/NWP50001.csv\n",
      "Processing Task ID: 4e2c473d-d751-46ac-bfbd-8324bd85297c for Location ID: NWP54002\n",
      "File downloaded successfully: ../../data/original_data/appears/ndvi/NWP54002.csv\n",
      "Downloaded file for Location ID: NWP54002 to ../../data/original_data/appears/ndvi/NWP54002.csv\n",
      "Processing Task ID: d7885eff-2b17-4205-a0a6-0c99eb25425e for Location ID: NWP20008\n",
      "File downloaded successfully: ../../data/original_data/appears/ndvi/NWP20008.csv\n",
      "Downloaded file for Location ID: NWP20008 to ../../data/original_data/appears/ndvi/NWP20008.csv\n",
      "Processing Task ID: 35ce49fb-c310-46e7-950d-d9b0c45ff34d for Location ID: NWP20003\n",
      "File downloaded successfully: ../../data/original_data/appears/ndvi/NWP20003.csv\n",
      "Downloaded file for Location ID: NWP20003 to ../../data/original_data/appears/ndvi/NWP20003.csv\n",
      "Processing Task ID: 17626e40-b0a5-45e5-be5b-416984902b74 for Location ID: NWP62001\n",
      "File downloaded successfully: ../../data/original_data/appears/ndvi/NWP62001.csv\n",
      "Downloaded file for Location ID: NWP62001 to ../../data/original_data/appears/ndvi/NWP62001.csv\n",
      "Processing Task ID: 59d56224-80e2-4901-b38b-8b1758432c4b for Location ID: NWP61001\n",
      "File downloaded successfully: ../../data/original_data/appears/ndvi/NWP61001.csv\n",
      "Downloaded file for Location ID: NWP61001 to ../../data/original_data/appears/ndvi/NWP61001.csv\n",
      "Processing Task ID: ddc0eeef-9030-482a-9e6b-c96d41d6a2e3 for Location ID: NWP60001\n",
      "File downloaded successfully: ../../data/original_data/appears/ndvi/NWP60001.csv\n",
      "Downloaded file for Location ID: NWP60001 to ../../data/original_data/appears/ndvi/NWP60001.csv\n",
      "Processing Task ID: 0d672465-1bc3-484c-9754-8e16a6d1a1da for Location ID: NWP58002\n",
      "File downloaded successfully: ../../data/original_data/appears/ndvi/NWP58002.csv\n",
      "Downloaded file for Location ID: NWP58002 to ../../data/original_data/appears/ndvi/NWP58002.csv\n",
      "Processing Task ID: 8b50705b-7c43-4982-8f08-7788dea749ae for Location ID: NWP58001\n",
      "File downloaded successfully: ../../data/original_data/appears/ndvi/NWP58001.csv\n",
      "Downloaded file for Location ID: NWP58001 to ../../data/original_data/appears/ndvi/NWP58001.csv\n",
      "Processing Task ID: 8a8ed697-9326-4fe1-8c4b-1a1d24eb56a9 for Location ID: NWP58011\n",
      "File downloaded successfully: ../../data/original_data/appears/ndvi/NWP58011.csv\n",
      "Downloaded file for Location ID: NWP58011 to ../../data/original_data/appears/ndvi/NWP58011.csv\n",
      "Processing Task ID: 3df9f3a5-c84a-44b1-931d-d8574a06d879 for Location ID: NWP35001\n",
      "File downloaded successfully: ../../data/original_data/appears/ndvi/NWP35001.csv\n",
      "Downloaded file for Location ID: NWP35001 to ../../data/original_data/appears/ndvi/NWP35001.csv\n",
      "Processing Task ID: 288bd6f6-78f9-4146-8789-dfdb6347ce41 for Location ID: NWP33001\n",
      "File downloaded successfully: ../../data/original_data/appears/ndvi/NWP33001.csv\n",
      "Downloaded file for Location ID: NWP33001 to ../../data/original_data/appears/ndvi/NWP33001.csv\n",
      "Processing Task ID: e956c8ea-89c9-4739-b59a-9a9459737920 for Location ID: NWP31001\n",
      "File downloaded successfully: ../../data/original_data/appears/ndvi/NWP31001.csv\n",
      "Downloaded file for Location ID: NWP31001 to ../../data/original_data/appears/ndvi/NWP31001.csv\n",
      "Processing Task ID: b4d718f5-40b9-404c-854e-6961347ec9ae for Location ID: NWP27001\n",
      "File downloaded successfully: ../../data/original_data/appears/ndvi/NWP27001.csv\n",
      "Downloaded file for Location ID: NWP27001 to ../../data/original_data/appears/ndvi/NWP27001.csv\n",
      "Processing Task ID: 9968976c-cbfd-4399-8ab9-8e38a1dfdebb for Location ID: NWP21002\n",
      "File downloaded successfully: ../../data/original_data/appears/ndvi/NWP21002.csv\n",
      "Downloaded file for Location ID: NWP21002 to ../../data/original_data/appears/ndvi/NWP21002.csv\n",
      "Processing Task ID: 0403eb0f-bd7b-4e25-b3ba-3e39df8cc572 for Location ID: NWP22003\n",
      "File downloaded successfully: ../../data/original_data/appears/ndvi/NWP22003.csv\n",
      "Downloaded file for Location ID: NWP22003 to ../../data/original_data/appears/ndvi/NWP22003.csv\n",
      "Processing Task ID: a2cbc76c-d12a-40f9-bf64-ac88a386534a for Location ID: NWP22001\n",
      "File downloaded successfully: ../../data/original_data/appears/ndvi/NWP22001.csv\n",
      "Downloaded file for Location ID: NWP22001 to ../../data/original_data/appears/ndvi/NWP22001.csv\n",
      "Processing Task ID: b9e4aeae-7e1d-43f0-bb57-b4ab1f19bd14 for Location ID: NWP20004\n",
      "File downloaded successfully: ../../data/original_data/appears/ndvi/NWP20004.csv\n",
      "Downloaded file for Location ID: NWP20004 to ../../data/original_data/appears/ndvi/NWP20004.csv\n",
      "Processing Task ID: 1a2091cb-5926-410d-a760-f9a7861e39dc for Location ID: NWP20023\n",
      "File downloaded successfully: ../../data/original_data/appears/ndvi/NWP20023.csv\n",
      "Downloaded file for Location ID: NWP20023 to ../../data/original_data/appears/ndvi/NWP20023.csv\n",
      "Processing Task ID: 0c73e734-2245-4a07-ba01-45bc426b9300 for Location ID: NWP20025\n",
      "File downloaded successfully: ../../data/original_data/appears/ndvi/NWP20025.csv\n",
      "Downloaded file for Location ID: NWP20025 to ../../data/original_data/appears/ndvi/NWP20025.csv\n",
      "Processing Task ID: deccefbb-f74e-4357-a534-11c0a43509c3 for Location ID: NWP20002\n",
      "File downloaded successfully: ../../data/original_data/appears/ndvi/NWP20002.csv\n",
      "Downloaded file for Location ID: NWP20002 to ../../data/original_data/appears/ndvi/NWP20002.csv\n",
      "Processing Task ID: a3cab1ae-69e7-4dd8-988f-89a7f6a5cce5 for Location ID: NWP00001\n",
      "File downloaded successfully: ../../data/original_data/appears/ndvi/NWP00001.csv\n",
      "Downloaded file for Location ID: NWP00001 to ../../data/original_data/appears/ndvi/NWP00001.csv\n",
      "Processing Task ID: 8e0666f9-bd49-4a6b-a880-ab54203e1c85 for Location ID: NWP13001\n",
      "File downloaded successfully: ../../data/original_data/appears/ndvi/NWP13001.csv\n",
      "Downloaded file for Location ID: NWP13001 to ../../data/original_data/appears/ndvi/NWP13001.csv\n",
      "Processing Task ID: 91311870-a06e-4e72-8ef3-b33584052324 for Location ID: NWP20009\n",
      "File downloaded successfully: ../../data/original_data/appears/ndvi/NWP20009.csv\n",
      "Downloaded file for Location ID: NWP20009 to ../../data/original_data/appears/ndvi/NWP20009.csv\n",
      "Processing Task ID: 53b09fd3-c4f2-4dfd-b6a5-621ffd3df73e for Location ID: NWP20007\n",
      "File downloaded successfully: ../../data/original_data/appears/ndvi/NWP20007.csv\n",
      "Downloaded file for Location ID: NWP20007 to ../../data/original_data/appears/ndvi/NWP20007.csv\n",
      "Processing Task ID: f587e867-0b08-4026-8d7c-8476ad1cf4e1 for Location ID: NWP20024\n",
      "File downloaded successfully: ../../data/original_data/appears/ndvi/NWP20024.csv\n",
      "Downloaded file for Location ID: NWP20024 to ../../data/original_data/appears/ndvi/NWP20024.csv\n",
      "Processing Task ID: fdf7806d-8319-47e3-911a-799c9c7e4cb2 for Location ID: NWP40001\n",
      "File downloaded successfully: ../../data/original_data/appears/ndvi/NWP40001.csv\n",
      "Downloaded file for Location ID: NWP40001 to ../../data/original_data/appears/ndvi/NWP40001.csv\n",
      "Processing Task ID: cb3191ab-bc14-401c-b429-7bbad4de2d94 for Location ID: NWP43001\n",
      "File downloaded successfully: ../../data/original_data/appears/ndvi/NWP43001.csv\n",
      "Downloaded file for Location ID: NWP43001 to ../../data/original_data/appears/ndvi/NWP43001.csv\n",
      "Processing Task ID: 674afbb5-e9e6-4875-9bda-c7da84ed5107 for Location ID: NWP51001\n",
      "File downloaded successfully: ../../data/original_data/appears/ndvi/NWP51001.csv\n",
      "Downloaded file for Location ID: NWP51001 to ../../data/original_data/appears/ndvi/NWP51001.csv\n",
      "Processing Task ID: 204e39b9-1594-4b28-8cf8-8c5f7b400279 for Location ID: NWP54001\n",
      "File downloaded successfully: ../../data/original_data/appears/ndvi/NWP54001.csv\n",
      "Downloaded file for Location ID: NWP54001 to ../../data/original_data/appears/ndvi/NWP54001.csv\n",
      "Processing Task ID: f48121df-5470-4f97-9698-9ec37d0a7e2b for Location ID: NWP62002\n",
      "File downloaded successfully: ../../data/original_data/appears/ndvi/NWP62002.csv\n",
      "Downloaded file for Location ID: NWP62002 to ../../data/original_data/appears/ndvi/NWP62002.csv\n",
      "Processing Task ID: cc7645e8-b0c1-4a8c-b080-51e7c66b804c for Location ID: NWP24001\n",
      "File downloaded successfully: ../../data/original_data/appears/ndvi/NWP24001.csv\n",
      "Downloaded file for Location ID: NWP24001 to ../../data/original_data/appears/ndvi/NWP24001.csv\n",
      "Processing Task ID: 2aded398-49e7-4237-8b44-1fa1e257936f for Location ID: NWP23001\n",
      "File downloaded successfully: ../../data/original_data/appears/ndvi/NWP23001.csv\n",
      "Downloaded file for Location ID: NWP23001 to ../../data/original_data/appears/ndvi/NWP23001.csv\n",
      "Processing Task ID: fa715905-0673-4fb1-961c-dd64ba2d6d4a for Location ID: NWP20006\n",
      "File downloaded successfully: ../../data/original_data/appears/ndvi/NWP20006.csv\n",
      "Downloaded file for Location ID: NWP20006 to ../../data/original_data/appears/ndvi/NWP20006.csv\n",
      "Processing Task ID: f2e3563a-e087-490e-b41d-9862da228610 for Location ID: NWP20005\n",
      "File downloaded successfully: ../../data/original_data/appears/ndvi/NWP20005.csv\n",
      "Downloaded file for Location ID: NWP20005 to ../../data/original_data/appears/ndvi/NWP20005.csv\n"
     ]
    }
   ],
   "source": [
    "# Example usage\n",
    "tasks_csv_path = '../../data/original_data/appears/ndvi/tasks_ndvi_wells_gambia.csv'  # Replace with your tasks CSV file path\n",
    "destination_directory = '../../data/original_data/appears/ndvi'  # Replace with your desired directory path\n",
    "\n",
    "download_and_save_results(tasks_csv=tasks_csv_path, destination_dir=destination_directory, token=token)\n"
   ]
  },
  {
   "cell_type": "markdown",
   "metadata": {},
   "source": [
    "## Finally we will have all our data ready to pre-process and use for our satelital project."
   ]
  }
 ],
 "metadata": {
  "kernelspec": {
   "display_name": "openai",
   "language": "python",
   "name": "openai"
  },
  "language_info": {
   "codemirror_mode": {
    "name": "ipython",
    "version": 3
   },
   "file_extension": ".py",
   "mimetype": "text/x-python",
   "name": "python",
   "nbconvert_exporter": "python",
   "pygments_lexer": "ipython3",
   "version": "3.9.5"
  }
 },
 "nbformat": 4,
 "nbformat_minor": 2
}
