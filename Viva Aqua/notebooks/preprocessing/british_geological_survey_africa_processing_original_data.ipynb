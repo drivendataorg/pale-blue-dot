{
 "cells": [
  {
   "cell_type": "markdown",
   "metadata": {},
   "source": [
    "# This file process 3 .txt files taked from the British Geological Survey about Ground-Water and save it as a CSV."
   ]
  },
  {
   "cell_type": "markdown",
   "metadata": {},
   "source": [
    "### First we make explicit the installation of libraries we will use and the importing."
   ]
  },
  {
   "cell_type": "code",
   "execution_count": 1,
   "metadata": {},
   "outputs": [],
   "source": [
    "!pip3 install -q --upgrade pip\n",
    "!pip3 install -q pandas numpy matplotlib seaborn openpyxl climateserv requests netCDF4 xarray pyproj"
   ]
  },
  {
   "cell_type": "code",
   "execution_count": 2,
   "metadata": {},
   "outputs": [],
   "source": [
    "import os\n",
    "import pandas as pd\n",
    "import numpy as np\n",
    "from itertools import product\n",
    "import matplotlib.pyplot as plt\n",
    "from sklearn.neighbors import NearestNeighbors\n",
    "\n",
    "import sys\n",
    "from pathlib import Path\n",
    "\n",
    "# Calculate the path to the scripts folder relative to the current notebook.\n",
    "scripts_dir = Path(\"../../\").resolve()\n",
    "\n",
    "# Add the scripts directory to the sys.path if it's not already there.\n",
    "if str(scripts_dir) not in sys.path:\n",
    "    sys.path.append(str(scripts_dir))\n",
    "\n",
    "import pandas as pd\n",
    "from scripts.preprocessing.british_geological_survey import find_closest_points"
   ]
  },
  {
   "cell_type": "markdown",
   "metadata": {},
   "source": [
    "### We have data in 3 different .txt files, we will combine them, and save just the data inside the Gambia Boundaries (Latitud and Longitud)"
   ]
  },
  {
   "cell_type": "code",
   "execution_count": 3,
   "metadata": {},
   "outputs": [
    {
     "name": "stdout",
     "output_type": "stream",
     "text": [
      "Combined data saved to processed_data/combined_data.csv\n"
     ]
    }
   ],
   "source": [
    "# Define the bounding box for The Gambia\n",
    "GAMBIA_BOUNDARIES = {\n",
    "    \"min_lat\": 13.052113101601,  # Lower latitude\n",
    "    \"max_lat\": 13.837920583180,  # Upper latitude\n",
    "    \"min_lon\": -17.06499856438,  # More western longitude\n",
    "    \"max_lon\": -13.77921401885   # More eastern longitude\n",
    "}\n",
    "\n",
    "\n",
    "def filter_gambia_points(file_path: str) -> pd.DataFrame:\n",
    "    \"\"\"\n",
    "    Read the ASCII file and filter points that are within The Gambia's boundaries.\n",
    "    \"\"\"\n",
    "    df = pd.read_csv(file_path, delim_whitespace=True)\n",
    "    # Filter based on The Gambia's bounding box\n",
    "    df = df[(df['X'] >= GAMBIA_BOUNDARIES['min_lon']) & (df['X'] <= GAMBIA_BOUNDARIES['max_lon']) &\n",
    "            (df['Y'] >= GAMBIA_BOUNDARIES['min_lat']) & (df['Y'] <= GAMBIA_BOUNDARIES['max_lat'])]\n",
    "    return df\n",
    "\n",
    "def map_values_to_description(df: pd.DataFrame, value_key: str, mapping_dict: dict) -> pd.DataFrame:\n",
    "    \"\"\"\n",
    "    Maps the ASCII values in the DataFrame to their descriptions using the provided mapping dictionary.\n",
    "    \"\"\"\n",
    "    df[value_key] = df[value_key].map(mapping_dict)\n",
    "    return df\n",
    "\n",
    "def round_coordinates(df, precision=3):\n",
    "    \"\"\"\n",
    "    Round the X and Y coordinates to the specified precision.\n",
    "    \n",
    "    Parameters:\n",
    "    df (pd.DataFrame): DataFrame with the X and Y columns.\n",
    "    precision (int): Decimal places to round to.\n",
    "\n",
    "    Returns:\n",
    "    pd.DataFrame: DataFrame with rounded coordinates.\n",
    "    \"\"\"\n",
    "    df['X'] = df['X'].round(precision)\n",
    "    df['Y'] = df['Y'].round(precision)\n",
    "    return df\n",
    "\n",
    "# Depth to Groundwater mapping\n",
    "depth_to_groundwater_mapping = {\n",
    "    'VS': '0-7', 'S': '7-25', 'SM': '25-50', 'M': '50-100', 'D': '100-250', 'VD': '>250'\n",
    "}\n",
    "\n",
    "# Groundwater Productivity mapping\n",
    "groundwater_productivity_mapping = {\n",
    "    'VH': '>20', 'H': '5-20', 'M': '1-5', 'LM': '0.5-1', 'L': '0.1-0.5', 'VL': '<0.1'\n",
    "}\n",
    "\n",
    "# Groundwater Storage mapping\n",
    "groundwater_storage_mapping = {\n",
    "    '0': '0', 'L': '<1000', 'LM': '1000-10,000', 'M': '10,000-25,000', 'H': '25,000-50,000', 'VH': '>50,000'\n",
    "}\n",
    "\n",
    "# Paths to the data files\n",
    "depth_to_groundwater_file = '../data/original_data/british_geological_survey_africa/DepthToGroundwater_V2/xyzASCII_dtwmap_v2.txt'\n",
    "groundwater_productivity_file = '../data/original_data/british_geological_survey_africa/GroundwaterProductivity/xyzASCII_gwprod_v1.txt'\n",
    "groundwater_storage_file = '../data/original_data/british_geological_survey_africa/GroundwaterStorage/xyzASCII_gwstor_v1.txt'\n",
    "\n",
    "\n",
    "# Read and process the Depth to Groundwater data\n",
    "df_dtw = filter_gambia_points(file_path=depth_to_groundwater_file)\n",
    "df_dtw = map_values_to_description(df=df_dtw, value_key='DTWAFRICA_', mapping_dict=depth_to_groundwater_mapping)\n",
    "df_dtw.rename(columns={'DTWAFRICA_': 'DepthToGroundwater'}, inplace=True)\n",
    "\n",
    "# Read and process the Groundwater Productivity data\n",
    "df_gwprod = filter_gambia_points(file_path=groundwater_productivity_file)\n",
    "df_gwprod = map_values_to_description(df=df_gwprod, value_key='GWPROD_V2', mapping_dict=groundwater_productivity_mapping)\n",
    "df_gwprod.rename(columns={'GWPROD_V2': 'GroundwaterProductivity'}, inplace=True)\n",
    "\n",
    "# Read and process the Groundwater Storage data\n",
    "df_gwstor = filter_gambia_points(file_path=groundwater_storage_file)\n",
    "df_gwstor = map_values_to_description(df=df_gwstor, value_key='GWSTOR_V2', mapping_dict=groundwater_storage_mapping)\n",
    "df_gwstor.rename(columns={'GWSTOR_V2': 'GroundwaterStorage'}, inplace=True)\n",
    "\n",
    "\n",
    "# Apply the rounding to each DataFrame before merging\n",
    "precision = 3\n",
    "df_dtw = round_coordinates(df_dtw, precision=precision)\n",
    "df_gwprod = round_coordinates(df_gwprod, precision=precision)\n",
    "df_gwstor = round_coordinates(df_gwstor, precision=precision)\n",
    "\n",
    "# Now combine the dataframes\n",
    "combined_df = df_dtw.merge(df_gwprod, on=['X', 'Y'], how='outer').merge(df_gwstor, on=['X', 'Y'], how='outer')\n",
    "\n",
    "folder_path = '../data/processed_data/british_geological_survey_africa/'\n",
    "# Define the path to the folder where you want to save the CSV file\n",
    "\n",
    "# Ensure the folder exists, if not, create it\n",
    "if not os.path.exists(folder_path):\n",
    "    os.makedirs(folder_path)\n",
    "\n",
    "# Define the name of the CSV file\n",
    "csv_file_name = 'combined_data.csv'\n",
    "\n",
    "# Construct the full path to the CSV file\n",
    "combined_csv_path = folder_path + csv_file_name\n",
    "\n",
    "# Save the combined data to the CSV file\n",
    "combined_df.to_csv(combined_csv_path, index=False)\n",
    "\n",
    "print(f\"Combined data saved to {combined_csv_path}\")\n"
   ]
  },
  {
   "cell_type": "markdown",
   "metadata": {},
   "source": [
    "### We combine the data even more, in threshold of 0.001 degrees something similar as a 1 kilometer radius. "
   ]
  },
  {
   "cell_type": "code",
   "execution_count": 8,
   "metadata": {},
   "outputs": [
    {
     "name": "stdout",
     "output_type": "stream",
     "text": [
      "Aggregated data saved to combined_data_aggregated.csv\n"
     ]
    }
   ],
   "source": [
    "# Load your data\n",
    "df = pd.read_csv('../data/processed_data/british_geological_survey_africa/combined_data.csv')\n",
    "\n",
    "# Define the rounding precision based on the desired range for grouping\n",
    "# For example, 0.03 would group points that are within ~3km of each other\n",
    "grouping_threshold = 0.001\n",
    "\n",
    "# Round the coordinates to the nearest grouping threshold\n",
    "df['X_rounded'] = (df['X'] / grouping_threshold).round() * grouping_threshold\n",
    "df['Y_rounded'] = (df['Y'] / grouping_threshold).round() * grouping_threshold\n",
    "\n",
    "# Now group by these rounded coordinates\n",
    "grouped = df.groupby(['X_rounded', 'Y_rounded'])\n",
    "\n",
    "# Define an aggregation function that takes the most frequent non-null value\n",
    "def most_frequent_non_null(series):\n",
    "    if series.isnull().all():\n",
    "        return None\n",
    "    else:\n",
    "        return series.dropna().mode().iloc[0]\n",
    "\n",
    "# Aggregate your data\n",
    "aggregated_df = grouped.agg({\n",
    "    'X': 'first',  # Keep the first X value\n",
    "    'Y': 'first',  # Keep the first Y value\n",
    "    'DepthToGroundwater': most_frequent_non_null,\n",
    "    'GroundwaterProductivity': most_frequent_non_null,\n",
    "    'GroundwaterStorage': most_frequent_non_null\n",
    "}).reset_index(drop=True)\n",
    "\n",
    "# Save the aggregated data back to CSV\n",
    "aggregated_df.to_csv('processed_data/combined_data_aggregated.csv', index=False)\n",
    "\n",
    "print(f\"Aggregated data saved to combined_data_aggregated.csv\")\n"
   ]
  },
  {
   "cell_type": "markdown",
   "metadata": {},
   "source": [
    "### We create a code to see how de data its. We have many NaNs between variables? "
   ]
  },
  {
   "cell_type": "code",
   "execution_count": 9,
   "metadata": {},
   "outputs": [
    {
     "name": "stdout",
     "output_type": "stream",
     "text": [
      "Total rows: 2671\n",
      "Rows with all values: 0\n",
      "Rows with any missing values: 2671\n",
      "Rows with only the first value: 933\n",
      "Rows with only the second value: 826\n",
      "Rows with only the third value: 912\n",
      "Rows with the first and second values, but missing third: 0\n",
      "Rows with the second and third values, but missing first: 0\n",
      "Rows with the first and third values, but missing second: 0\n"
     ]
    }
   ],
   "source": [
    "# Load the aggregated data\n",
    "df = pd.read_csv('processed_data/combined_data_aggregated.csv')\n",
    "\n",
    "# Calculate the total number of rows\n",
    "total_rows = len(df)\n",
    "\n",
    "# Calculate the number of rows with all values present\n",
    "full_values = df.dropna().shape[0]\n",
    "\n",
    "# Calculate the number of rows with missing values\n",
    "missing_values = total_rows - full_values\n",
    "\n",
    "# Calculate the number of rows with only the first value present\n",
    "only_first = df[df['GroundwaterProductivity'].isna() & df['GroundwaterStorage'].isna()].shape[0]\n",
    "\n",
    "# Calculate the number of rows with only the second value present\n",
    "only_second = df[df['DepthToGroundwater'].isna() & df['GroundwaterStorage'].isna()].shape[0]\n",
    "\n",
    "# Calculate the number of rows with only the third value present\n",
    "only_third = df[df['DepthToGroundwater'].isna() & df['GroundwaterProductivity'].isna()].shape[0]\n",
    "\n",
    "# Calculate the number of rows with the first and second values present but missing third\n",
    "first_and_second = df[df['GroundwaterStorage'].isna() & df['DepthToGroundwater'].notna() & df['GroundwaterProductivity'].notna()].shape[0]\n",
    "\n",
    "# Calculate the number of rows with the second and third values present but missing first\n",
    "second_and_third = df[df['DepthToGroundwater'].isna() & df['GroundwaterProductivity'].notna() & df['GroundwaterStorage'].notna()].shape[0]\n",
    "\n",
    "# Calculate the number of rows with the first and third values present but missing second\n",
    "first_and_third = df[df['GroundwaterProductivity'].isna() & df['DepthToGroundwater'].notna() & df['GroundwaterStorage'].notna()].shape[0]\n",
    "\n",
    "# Print the results\n",
    "print(f\"Total rows: {total_rows}\")\n",
    "print(f\"Rows with all values: {full_values}\")\n",
    "print(f\"Rows with any missing values: {missing_values}\")\n",
    "print(f\"Rows with only the first value: {only_first}\")\n",
    "print(f\"Rows with only the second value: {only_second}\")\n",
    "print(f\"Rows with only the third value: {only_third}\")\n",
    "print(f\"Rows with the first and second values, but missing third: {first_and_second}\")\n",
    "print(f\"Rows with the second and third values, but missing first: {second_and_third}\")\n",
    "print(f\"Rows with the first and third values, but missing second: {first_and_third}\")\n"
   ]
  },
  {
   "cell_type": "markdown",
   "metadata": {},
   "source": [
    "### We see that the data its still not merged, so we create a Nearest Neighbors to populated the data where its empty. So basically for each empty point, we see the 5 closest points with data, and the most mode data, we copy in the empty point"
   ]
  },
  {
   "cell_type": "code",
   "execution_count": 21,
   "metadata": {},
   "outputs": [],
   "source": [
    "# Load the data\n",
    "df = pd.read_csv('processed_data/combined_data_aggregated.csv')\n",
    "\n",
    "# Fill missing values with empty strings for easier processing\n",
    "df.fillna('', inplace=True)\n",
    "\n",
    "# Initialize NearestNeighbors\n",
    "neigh = NearestNeighbors(n_neighbors=5)\n",
    "neigh.fit(df[['X', 'Y']])\n",
    "\n",
    "def impute_column(df: pd.DataFrame, column_name: str, neigh: NearestNeighbors) -> None:\n",
    "    \"\"\"\n",
    "    Impute missing values for a given column using the Nearest Neighbors algorithm.\n",
    "    \"\"\"\n",
    "    needs_impute = df[df[column_name] == '']\n",
    "    for index, row in needs_impute.iterrows():\n",
    "        # Create a temporary DataFrame with the same columns used for fitting\n",
    "        temp_df = pd.DataFrame([row[['X', 'Y']]], columns=['X', 'Y'])\n",
    "        _, indices = neigh.kneighbors(temp_df)\n",
    "        neighbor_values = df.iloc[indices[0]][column_name].values\n",
    "        neighbor_values = [value for value in neighbor_values if value != '']\n",
    "        if neighbor_values:\n",
    "            most_common_value = pd.Series(neighbor_values).mode().iloc[0]\n",
    "            df.at[index, column_name] = most_common_value\n",
    "\n",
    "# Impute the required columns\n",
    "columns_to_impute = ['DepthToGroundwater', 'GroundwaterProductivity', 'GroundwaterStorage']\n",
    "for column in columns_to_impute:\n",
    "    impute_column(df=df, column_name=column, neigh=neigh)\n",
    "\n",
    "# Replace empty strings with NaN to maintain consistency\n",
    "df.replace('', pd.NA, inplace=True)\n",
    "\n",
    "# Save the filled data to a CSV file\n",
    "df.to_csv('processed_data/combined_data_filled.csv', index=False)"
   ]
  },
  {
   "cell_type": "markdown",
   "metadata": {},
   "source": [
    "### Now we see if the data its combined ready to use. "
   ]
  },
  {
   "cell_type": "code",
   "execution_count": 22,
   "metadata": {},
   "outputs": [
    {
     "name": "stdout",
     "output_type": "stream",
     "text": [
      "Total rows: 2671\n",
      "Rows with all values: 2647\n",
      "Rows with any missing values: 24\n",
      "Rows with only the first value: 14\n",
      "Rows with only the second value: 0\n",
      "Rows with only the third value: 0\n",
      "Rows with the first and second values, but missing third: 0\n",
      "Rows with the second and third values, but missing first: 0\n",
      "Rows with the first and third values, but missing second: 10\n"
     ]
    }
   ],
   "source": [
    "# Load the aggregated data\n",
    "df = pd.read_csv('processed_data/combined_data_filled.csv')\n",
    "\n",
    "# Calculate the total number of rows\n",
    "total_rows = len(df)\n",
    "\n",
    "# Calculate the number of rows with all values present\n",
    "full_values = df.dropna().shape[0]\n",
    "\n",
    "# Calculate the number of rows with missing values\n",
    "missing_values = total_rows - full_values\n",
    "\n",
    "# Calculate the number of rows with only the first value present\n",
    "only_first = df[df['GroundwaterProductivity'].isna() & df['GroundwaterStorage'].isna()].shape[0]\n",
    "\n",
    "# Calculate the number of rows with only the second value present\n",
    "only_second = df[df['DepthToGroundwater'].isna() & df['GroundwaterStorage'].isna()].shape[0]\n",
    "\n",
    "# Calculate the number of rows with only the third value present\n",
    "only_third = df[df['DepthToGroundwater'].isna() & df['GroundwaterProductivity'].isna()].shape[0]\n",
    "\n",
    "# Calculate the number of rows with the first and second values present but missing third\n",
    "first_and_second = df[df['GroundwaterStorage'].isna() & df['DepthToGroundwater'].notna() & df['GroundwaterProductivity'].notna()].shape[0]\n",
    "\n",
    "# Calculate the number of rows with the second and third values present but missing first\n",
    "second_and_third = df[df['DepthToGroundwater'].isna() & df['GroundwaterProductivity'].notna() & df['GroundwaterStorage'].notna()].shape[0]\n",
    "\n",
    "# Calculate the number of rows with the first and third values present but missing second\n",
    "first_and_third = df[df['GroundwaterProductivity'].isna() & df['DepthToGroundwater'].notna() & df['GroundwaterStorage'].notna()].shape[0]\n",
    "\n",
    "# Print the results\n",
    "print(f\"Total rows: {total_rows}\")\n",
    "print(f\"Rows with all values: {full_values}\")\n",
    "print(f\"Rows with any missing values: {missing_values}\")\n",
    "print(f\"Rows with only the first value: {only_first}\")\n",
    "print(f\"Rows with only the second value: {only_second}\")\n",
    "print(f\"Rows with only the third value: {only_third}\")\n",
    "print(f\"Rows with the first and second values, but missing third: {first_and_second}\")\n",
    "print(f\"Rows with the second and third values, but missing first: {second_and_third}\")\n",
    "print(f\"Rows with the first and third values, but missing second: {first_and_third}\")"
   ]
  },
  {
   "cell_type": "markdown",
   "metadata": {},
   "source": [
    "### We can see above that now we have almost all the rows fully completed. We want to see the different variables in each column"
   ]
  },
  {
   "cell_type": "code",
   "execution_count": 29,
   "metadata": {},
   "outputs": [
    {
     "name": "stdout",
     "output_type": "stream",
     "text": [
      "Total rows: 2671\n",
      "Rows with all values: 2647\n",
      "Rows with any missing values: 24\n",
      "Unique values in 'DepthToGroundwater': ['7-25' '0-7' '>250' '25-50']\n",
      "Unique values in 'GroundwaterProductivity': [nan '>20']\n",
      "Unique values in 'GroundwaterStorage': [nan '>50,000']\n"
     ]
    }
   ],
   "source": [
    "# Load the aggregated data\n",
    "df = pd.read_csv('processed_data/combined_data_filled.csv')\n",
    "\n",
    "# Calculate the total number of rows\n",
    "total_rows = len(df)\n",
    "\n",
    "# [Your code to calculate the different categories of rows...]\n",
    "\n",
    "# Print the previous results\n",
    "print(f\"Total rows: {total_rows}\")\n",
    "print(f\"Rows with all values: {full_values}\")  # Replace 'full_values' with your calculated value\n",
    "print(f\"Rows with any missing values: {missing_values}\")  # Replace 'missing_values' with your calculated value\n",
    "# [Print the rest of your row categories...]\n",
    "\n",
    "# Obtain and print unique values for each column, except 'X' and 'Y'\n",
    "for column in df.columns:\n",
    "    if column not in ['X', 'Y']:\n",
    "        unique_values = df[column].unique()\n",
    "        print(f\"Unique values in '{column}': {unique_values}\")"
   ]
  },
  {
   "cell_type": "markdown",
   "metadata": {},
   "source": [
    "### Now we plot the Nearest Neighbors Algorithm and 5 examples of usage to easy understand how it work. "
   ]
  },
  {
   "cell_type": "code",
   "execution_count": 38,
   "metadata": {},
   "outputs": [
    {
     "name": "stderr",
     "output_type": "stream",
     "text": [
      "/Users/franciscofurey/00DataScience/OpenAi/venv/lib/python3.9/site-packages/sklearn/base.py:464: UserWarning: X does not have valid feature names, but NearestNeighbors was fitted with feature names\n",
      "  warnings.warn(\n",
      "/Users/franciscofurey/00DataScience/OpenAi/venv/lib/python3.9/site-packages/sklearn/base.py:464: UserWarning: X does not have valid feature names, but NearestNeighbors was fitted with feature names\n",
      "  warnings.warn(\n",
      "/Users/franciscofurey/00DataScience/OpenAi/venv/lib/python3.9/site-packages/sklearn/base.py:464: UserWarning: X does not have valid feature names, but NearestNeighbors was fitted with feature names\n",
      "  warnings.warn(\n",
      "/Users/franciscofurey/00DataScience/OpenAi/venv/lib/python3.9/site-packages/sklearn/base.py:464: UserWarning: X does not have valid feature names, but NearestNeighbors was fitted with feature names\n",
      "  warnings.warn(\n",
      "/Users/franciscofurey/00DataScience/OpenAi/venv/lib/python3.9/site-packages/sklearn/base.py:464: UserWarning: X does not have valid feature names, but NearestNeighbors was fitted with feature names\n",
      "  warnings.warn(\n"
     ]
    },
    {
     "data": {
      "image/png": "[encoded data removed]",
      "text/plain": [
       "<Figure size 1000x600 with 1 Axes>"
      ]
     },
     "metadata": {},
     "output_type": "display_data"
    }
   ],
   "source": [
    "# Load the data\n",
    "df = pd.read_csv('processed_data/combined_data_aggregated.csv')\n",
    "\n",
    "# Fill missing values with empty strings for easier processing\n",
    "df.fillna('', inplace=True)\n",
    "\n",
    "# Initialize and train NearestNeighbors\n",
    "neigh = NearestNeighbors(n_neighbors=5)\n",
    "neigh.fit(df[['X', 'Y']])\n",
    "\n",
    "# Visualization setup\n",
    "plt.figure(figsize=(10, 6))\n",
    "\n",
    "# Plot all points in blue first so that the red points overlay\n",
    "plt.scatter(df['X'], df['Y'], label='Points', alpha=0.6, zorder=1)\n",
    "\n",
    "# Select 5 random sample points that need imputation\n",
    "# Assuming that missing values are represented by empty strings\n",
    "missing_values_indices = df.index[df['DepthToGroundwater'] == ''].tolist()\n",
    "sample_indices = np.random.choice(missing_values_indices, size=5, replace=False)\n",
    "\n",
    "# For each sample point, find and visualize the nearest neighbors\n",
    "for sample_index in sample_indices:\n",
    "    sample_point = df.iloc[sample_index]\n",
    "    # Find the 5 nearest neighbors for the sample point\n",
    "    _, indices = neigh.kneighbors([sample_point[['X', 'Y']].values])  # Corrected to pass an array\n",
    "    # Plot the nearest neighbors in green\n",
    "    plt.scatter(df.iloc[indices[0]]['X'], df.iloc[indices[0]]['Y'], color='green', s=50, \n",
    "                label='Nearest Neighbors' if sample_index == sample_indices[0] else \"\", zorder=2)\n",
    "    # Plot the sample point in red, larger and with an edge to highlight\n",
    "    plt.scatter(sample_point['X'], sample_point['Y'], color='red', s=100, edgecolor='black', \n",
    "                label='Sample Point' if sample_index == sample_indices[0] else \"\", zorder=3)\n",
    "\n",
    "plt.title('Nearest Neighbors in Your Data')\n",
    "plt.xlabel('X')\n",
    "plt.ylabel('Y')\n",
    "plt.legend()\n",
    "plt.show()\n"
   ]
  },
  {
   "cell_type": "markdown",
   "metadata": {},
   "source": [
    "### In this graph above we can see that for each point whit empty values (red ones), takes the 5 more closest points (green ones), and see his values inside. And the value with more repetead into the green dotes its populated inside into the red dot."
   ]
  },
  {
   "cell_type": "code",
   "execution_count": 4,
   "metadata": {},
   "outputs": [
    {
     "name": "stderr",
     "output_type": "stream",
     "text": [
      "/Users/franciscofurey/00DataScience/aquaViva/scripts/preprocessing/british_geological_survey.py:45: FutureWarning: Setting an item of incompatible dtype is deprecated and will raise in a future error of pandas. Value '0-7' has dtype incompatible with float64, please explicitly cast to a compatible dtype first.\n",
      "  wells_df.at[index, 'DepthToGroundwater'] = combined_df.at[closest_idx, 'DepthToGroundwater']\n",
      "/Users/franciscofurey/00DataScience/aquaViva/scripts/preprocessing/british_geological_survey.py:46: FutureWarning: Setting an item of incompatible dtype is deprecated and will raise in a future error of pandas. Value '>20' has dtype incompatible with float64, please explicitly cast to a compatible dtype first.\n",
      "  wells_df.at[index, 'GroundwaterProductivity'] = combined_df.at[closest_idx, 'GroundwaterProductivity']\n",
      "/Users/franciscofurey/00DataScience/aquaViva/scripts/preprocessing/british_geological_survey.py:47: FutureWarning: Setting an item of incompatible dtype is deprecated and will raise in a future error of pandas. Value '>50,000' has dtype incompatible with float64, please explicitly cast to a compatible dtype first.\n",
      "  wells_df.at[index, 'GroundwaterStorage'] = combined_df.at[closest_idx, 'GroundwaterStorage']\n"
     ]
    }
   ],
   "source": [
    "wells_updated_df = find_closest_points(\n",
    "    wells_path='../../data/processed_data/igrac/wells_gambia.csv', \n",
    "    combined_data_path='../../data/processed_data/british_geological_survey_africa/combined_data_filled.csv'\n",
    ")\n",
    "wells_updated_df.to_csv('../../data/processed_data/igrac/wells_gambia_updated.csv', index=False)"
   ]
  }
 ],
 "metadata": {
  "kernelspec": {
   "display_name": "openai",
   "language": "python",
   "name": "openai"
  },
  "language_info": {
   "codemirror_mode": {
    "name": "ipython",
    "version": 3
   },
   "file_extension": ".py",
   "mimetype": "text/x-python",
   "name": "python",
   "nbconvert_exporter": "python",
   "pygments_lexer": "ipython3",
   "version": "3.9.5"
  }
 },
 "nbformat": 4,
 "nbformat_minor": 2
}
